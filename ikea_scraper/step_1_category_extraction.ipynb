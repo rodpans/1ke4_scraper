{
 "cells": [
  {
   "cell_type": "code",
   "execution_count": 1,
   "metadata": {},
   "outputs": [],
   "source": [
    "from selenium import webdriver\n",
    "from selenium.webdriver.chrome.service import Service\n",
    "from selenium.webdriver.common.by import By\n",
    "from selenium.webdriver.support.ui import WebDriverWait\n",
    "from selenium.webdriver.support import expected_conditions as EC\n",
    "from bs4 import BeautifulSoup\n",
    "import os\n",
    "from webdriver_manager.chrome import ChromeDriverManager\n",
    "import time"
   ]
  },
  {
   "cell_type": "markdown",
   "metadata": {},
   "source": [
    "## 1. Extracting Categories"
   ]
  },
  {
   "cell_type": "code",
   "execution_count": 72,
   "metadata": {},
   "outputs": [],
   "source": [
    "# You have to download first a ChromeDriver which matches your Chrome version\n",
    "# I installed it in my current workfolder as I am only gonna do this for this project\n",
    "path = os.path.abspath(os.getcwd())\n",
    "# Setup Chrome WebDriver\n",
    "cService = webdriver.ChromeService(executable_path=ChromeDriverManager().install())\n",
    "driver = webdriver.Chrome(service=cService)\n",
    "\n",
    "# Navigate to the IKEA website\n",
    "driver.get('https://www.ikea.com/es/')\n",
    "\n",
    "# Wait for the page to load\n",
    "WebDriverWait(driver, 10).until(\n",
    "    EC.presence_of_element_located((By.ID, 'hnf-carousel__tabs-navigation-products'))\n",
    ")\n",
    "\n",
    "# We expand the window to fit full screen\n",
    "driver.maximize_window()\n"
   ]
  },
  {
   "cell_type": "code",
   "execution_count": 73,
   "metadata": {},
   "outputs": [],
   "source": [
    "# Check for and handle the cookie consent banner\n",
    "try:\n",
    "    # Wait for the cookie consent banner to be visible\n",
    "    WebDriverWait(driver, 5).until(\n",
    "        EC.presence_of_element_located((By.ID, \"onetrust-banner-sdk\"))\n",
    "    )\n",
    "    # Click the accept button\n",
    "    accept_button = driver.find_element(By.ID, \"onetrust-accept-btn-handler\")\n",
    "    accept_button.click()\n",
    "except:\n",
    "    # If the banner does not appear, handle the exception (it might not be there)\n",
    "    print(\"No cookie consent banner found.\")\n",
    "\n",
    "# We zoom out to see the whole page\n",
    "#driver.execute_script(\"document.body.style.zoom='50%'\")"
   ]
  },
  {
   "cell_type": "code",
   "execution_count": 74,
   "metadata": {},
   "outputs": [],
   "source": [
    "# Find the div and select the first link element\n",
    "product_tab = driver.find_element(By.ID, 'hnf-carousel__tabs-navigation-products')\n",
    "all_links = product_tab.find_elements(By.TAG_NAME, 'a')"
   ]
  },
  {
   "cell_type": "code",
   "execution_count": 78,
   "metadata": {},
   "outputs": [],
   "source": [
    "visited_links = set()  # To keep track of visited links\n",
    "ikea_product_categories = []\n",
    "n_visited_links = 0\n",
    "failed_links = []"
   ]
  },
  {
   "cell_type": "code",
   "execution_count": 79,
   "metadata": {},
   "outputs": [
    {
     "name": "stdout",
     "output_type": "stream",
     "text": [
      "extracting categories from:  Almacenaje y organización\n",
      "extracting categories from:  Muebles\n",
      "extracting categories from:  Productos de jardín y terraza\n",
      "extracting categories from:  Macetas, plantas y jardinería\n",
      "extracting categories from:  Muebles de baño y accesorios\n",
      "extracting categories from:  Cocinas y electrodomésticos\n",
      "extracting categories from:  Menaje para cocinar, comer y beber\n",
      "extracting categories from:  Textiles del hogar\n",
      "extracting categories from:  Decoración y espejos\n",
      "extracting categories from:  Iluminación\n",
      "Could not click on the link number  9\n",
      "extracting categories from:  Bebés, niños y niñas\n",
      "extracting categories from:  Camas y colchones\n",
      "Could not click on the link number  11\n",
      "extracting categories from:  Alfombras, felpudos y suelos\n",
      "extracting categories from:  Colada y limpieza\n",
      "Could not click on the link number  13\n",
      "extracting categories from:  Accesorios para mascotas\n",
      "extracting categories from:  Hogar inteligente y tecnología\n",
      "Could not click on the link number  15\n",
      "extracting categories from:  Bricolaje\n",
      "extracting categories from:  Alimentos suecos y bebidas\n",
      "Could not click on the link number  17\n",
      "extracting categories from:  Smart home\n"
     ]
    }
   ],
   "source": [
    "for link in all_links:\n",
    "    print(\"extracting categories from: \", link.text)\n",
    "    try:\n",
    "        link.click()\n",
    "    except:\n",
    "        print(\"Could not click on the link number \", str(n_visited_links))\n",
    "        failed_links.append(link)\n",
    "    try:\n",
    "        WebDriverWait(driver, 5).until(\n",
    "            EC.presence_of_all_elements_located((By.CSS_SELECTOR, '.hnf-dropdown__columns a, .hnf-dropdown__column a'))\n",
    "        )\n",
    "    except:\n",
    "        print(\"No categories found for this link\")\n",
    "\n",
    "    # Use BeautifulSoup to parse the updated page source\n",
    "    soup = BeautifulSoup(driver.page_source, 'html.parser')\n",
    "\n",
    "    # Find all <a> elements within elements of class 'hnf-dropdown__columns'\n",
    "    links = soup.select('.hnf-dropdown__columns a, .hnf-dropdown__column a')\n",
    "    link_data = [{'href': link['href'], 'text': link.get_text(strip=True)} for link in links if link.has_attr('href')]\n",
    "    \n",
    "    ikea_product_categories.extend(link_data)\n",
    "    \n",
    "    time.sleep(2)\n",
    "    n_visited_links += 1"
   ]
  },
  {
   "cell_type": "code",
   "execution_count": null,
   "metadata": {},
   "outputs": [],
   "source": [
    "# We manually select the arrow to show the categories which failed"
   ]
  },
  {
   "cell_type": "code",
   "execution_count": 80,
   "metadata": {},
   "outputs": [
    {
     "name": "stdout",
     "output_type": "stream",
     "text": [
      "extracting categories from:  Iluminación\n",
      "extracting categories from:  Camas y colchones\n",
      "extracting categories from:  Colada y limpieza\n",
      "extracting categories from:  Hogar inteligente y tecnología\n",
      "extracting categories from:  Alimentos suecos y bebidas\n"
     ]
    }
   ],
   "source": [
    "for link in failed_links:\n",
    "    print(\"extracting categories from: \", link.text)\n",
    "    try:\n",
    "        link.click()\n",
    "    except:\n",
    "        print(f\"Could not click on the link fo {link.text}\")\n",
    "    try:\n",
    "        WebDriverWait(driver, 5).until(\n",
    "            EC.presence_of_all_elements_located((By.CSS_SELECTOR, '.hnf-dropdown__columns a, .hnf-dropdown__column a'))\n",
    "        )\n",
    "    except:\n",
    "        print(\"No categories found for this link\")\n",
    "\n",
    "    # Use BeautifulSoup to parse the updated page source\n",
    "    soup = BeautifulSoup(driver.page_source, 'html.parser')\n",
    "\n",
    "    # Find all <a> elements within elements of class 'hnf-dropdown__columns'\n",
    "    links = soup.select('.hnf-dropdown__columns a, .hnf-dropdown__column a')\n",
    "    link_data = [{'href': link['href'], 'text': link.get_text(strip=True)} for link in links if link.has_attr('href')]\n",
    "    \n",
    "    ikea_product_categories.extend(link_data)\n",
    "    \n",
    "    time.sleep(2)\n",
    "    n_visited_links += 1"
   ]
  },
  {
   "cell_type": "code",
   "execution_count": 83,
   "metadata": {},
   "outputs": [],
   "source": [
    "#Save product categories to a json file in output folder use utf-8 encoding\n",
    "import json\n",
    "output_folder = os.path.join(path, 'output')\n",
    "os.makedirs(output_folder, exist_ok=True)\n",
    "output_file = os.path.join(output_folder, 'ikea_product_categories.json')\n",
    "with open(output_file, 'w', encoding='utf-8') as f:\n",
    "    json.dump(ikea_product_categories, f, ensure_ascii=False, indent=4)"
   ]
  }
 ],
 "metadata": {
  "kernelspec": {
   "display_name": "venv_tfm",
   "language": "python",
   "name": "python3"
  },
  "language_info": {
   "codemirror_mode": {
    "name": "ipython",
    "version": 3
   },
   "file_extension": ".py",
   "mimetype": "text/x-python",
   "name": "python",
   "nbconvert_exporter": "python",
   "pygments_lexer": "ipython3",
   "version": "3.12.3"
  }
 },
 "nbformat": 4,
 "nbformat_minor": 2
}
