{
 "cells": [
  {
   "cell_type": "code",
   "execution_count": 21,
   "metadata": {},
   "outputs": [],
   "source": [
    "import os\n",
    "import json\n",
    "import pandas as pd\n",
    "import copy "
   ]
  },
  {
   "cell_type": "code",
   "execution_count": 2,
   "metadata": {},
   "outputs": [],
   "source": [
    "products = pd.read_parquet('output/products.parquet')"
   ]
  },
  {
   "cell_type": "code",
   "execution_count": 3,
   "metadata": {},
   "outputs": [],
   "source": [
    "# Load the JSON data\n",
    "file_path = os.path.join(os.getcwd(), \"output\", \"full_product_extraction.json\")\n",
    "# We will read the json file to memory and then process it\n",
    "with open(file_path, 'r', encoding=\"utf-8\") as f:\n",
    "    raw_data = f.read()\n",
    "    raw_data = json.loads(raw_data)"
   ]
  },
  {
   "cell_type": "code",
   "execution_count": 5,
   "metadata": {},
   "outputs": [
    {
     "data": {
      "text/plain": [
       "{'packages': [{'name': 'BRIMNES',\n",
       "   'typeName': 'Librería',\n",
       "   'itemNo': '90301225',\n",
       "   'articleNumber': {'label': 'Número de artículo', 'value': '903.012.25'},\n",
       "   'measurements': [[{'label': 'Ancho',\n",
       "      'type': 'width',\n",
       "      'text': '36 cm',\n",
       "      'value': 36},\n",
       "     {'label': 'Alto', 'type': 'height', 'text': '11 cm', 'value': 11},\n",
       "     {'label': 'Largo', 'type': 'length', 'text': '86 cm', 'value': 86},\n",
       "     {'label': 'Peso', 'type': 'weight', 'text': '16.10 kg', 'value': 16.1}],\n",
       "    [{'label': 'Ancho', 'type': 'width', 'text': '36 cm', 'value': 36},\n",
       "     {'label': 'Alto', 'type': 'height', 'text': '6 cm', 'value': 6},\n",
       "     {'label': 'Largo', 'type': 'length', 'text': '193 cm', 'value': 193},\n",
       "     {'label': 'Peso', 'type': 'weight', 'text': '25.60 kg', 'value': 25.6}]],\n",
       "   'quantity': {'label': 'Paquete(s)', 'value': 1},\n",
       "   'multiPackDisclaimerText': 'Este producto tiene varios bultos'}],\n",
       " 'totalNoOfPackagesText': 'Este producto consta de 2 paquetes.',\n",
       " 'maxMeasurments': {'weightText': '25.60 kg',\n",
       "  'widthText': '36 cm',\n",
       "  'lengthText': '193 cm',\n",
       "  'heightText': '11 cm',\n",
       "  'diameterText': ''},\n",
       " 'price': 84.99,\n",
       " 'currency': '€',\n",
       " 'measurement_ensembled_text': '60x190 cm',\n",
       " 'url': 'https://www.ikea.com/es/es/p/brimnes-libreria-blanco-90301225/',\n",
       " 'name': 'BRIMNES',\n",
       " 'category': 'Librería'}"
      ]
     },
     "execution_count": 5,
     "metadata": {},
     "output_type": "execute_result"
    }
   ],
   "source": [
    "raw_data[8]"
   ]
  },
  {
   "cell_type": "code",
   "execution_count": 14,
   "metadata": {},
   "outputs": [],
   "source": [
    "package = entry[\"packages\"][0]"
   ]
  },
  {
   "cell_type": "code",
   "execution_count": 16,
   "metadata": {},
   "outputs": [
    {
     "data": {
      "text/plain": [
       "[[{'label': 'Ancho', 'type': 'width', 'text': '36 cm', 'value': 36},\n",
       "  {'label': 'Alto', 'type': 'height', 'text': '11 cm', 'value': 11},\n",
       "  {'label': 'Largo', 'type': 'length', 'text': '86 cm', 'value': 86},\n",
       "  {'label': 'Peso', 'type': 'weight', 'text': '16.10 kg', 'value': 16.1}],\n",
       " [{'label': 'Ancho', 'type': 'width', 'text': '36 cm', 'value': 36},\n",
       "  {'label': 'Alto', 'type': 'height', 'text': '6 cm', 'value': 6},\n",
       "  {'label': 'Largo', 'type': 'length', 'text': '193 cm', 'value': 193},\n",
       "  {'label': 'Peso', 'type': 'weight', 'text': '25.60 kg', 'value': 25.6}]]"
      ]
     },
     "execution_count": 16,
     "metadata": {},
     "output_type": "execute_result"
    }
   ],
   "source": [
    "package[\"measurements\"]"
   ]
  },
  {
   "cell_type": "code",
   "execution_count": 28,
   "metadata": {},
   "outputs": [],
   "source": [
    "# Initialize lists to store product and package data\n",
    "# Each product, which is any product for sale with a name will have a packages list.\n",
    "# The package may be the product itself if there is only one package or it may be several packages\n",
    "# In case any package has more than one object, we will replicate the package and assign to it consecutive subitemNo\n",
    "products_list = []\n",
    "product_id = 0\n",
    "# Extract product and package information\n",
    "for idx, entry in enumerate(raw_data):\n",
    "    if entry is None or isinstance(entry, dict) is False:\n",
    "        continue\n",
    "\n",
    "    product_id += 1\n",
    "    main_product = {\n",
    "        \"id\": product_id,\n",
    "        #\"item_number\": entry[\"packages\"][0][\"itemNo\"],\n",
    "        \"ensembled_measurements\": entry[\"measurement_ensembled_text\"],\n",
    "        \"name\": entry.get(\"name\", None),\n",
    "        \"category\": entry.get(\"category\", None),\n",
    "        \"price\": entry[\"price\"],\n",
    "        \"currency\": entry[\"currency\"].strip(),\n",
    "        \"url\": entry.get(\"url\", None),\n",
    "        \"packages\": []  # Initially empty, can be populated if needed\n",
    "    }\n",
    "\n",
    "    # if len(entry[\"packages\"]) > 1: the furniture is made up of other furniture\n",
    "    # So we need to extract all the components, and the first element of the packages list is the main product\n",
    "    # So it will likely have no measurements\n",
    "\n",
    "    if len(entry[\"packages\"]) > 1:\n",
    "        for package in entry[\"packages\"][1:]:\n",
    "            package_details = {\n",
    "                \"name\": package[\"name\"],\n",
    "                \"typeName\": package[\"typeName\"],\n",
    "                \"itemNo\": package[\"itemNo\"],\n",
    "                #\"subitemNo\": subitem_number,\n",
    "                \"articleNumber\": package.get(\"articleNumber\", {}).get(\"value\", None),\n",
    "                \"measurements\": {\n",
    "                    \"dimensions\": {\n",
    "                    },\n",
    "                    \"weight\": {\n",
    "                    },\n",
    "                    \"volume\": {\n",
    "                    }\n",
    "                },\n",
    "                \"quantity\": 1\n",
    "            }\n",
    "            if package.get(\"measurements\", None) is None:\n",
    "                continue\n",
    "            for subpackage in package[\"measurements\"]:\n",
    "                subpackage_details = copy.deepcopy(package_details)\n",
    "                subitem_number = 1\n",
    "                subpackage_details[\"subitemNo\"] = subitem_number\n",
    "                for measurement in subpackage:\n",
    "                    if measurement[\"type\"] == \"width\":\n",
    "                        subpackage_details[\"measurements\"][\"dimensions\"][\"width\"] = float(measurement[\"value\"])\n",
    "                        subpackage_details[\"measurements\"][\"dimensions\"][\"unit\"] = measurement[\"text\"].split(\" \")[-1]\n",
    "                    elif measurement[\"type\"] == \"height\":\n",
    "                        subpackage_details[\"measurements\"][\"dimensions\"][\"height\"] = float(measurement[\"value\"])\n",
    "                        subpackage_details[\"measurements\"][\"dimensions\"][\"unit\"] = measurement[\"text\"].split(\" \")[-1]\\\n",
    "                            if subpackage_details[\"measurements\"][\"dimensions\"][\"unit\"] is None\\\n",
    "                                else subpackage_details[\"measurements\"][\"dimensions\"][\"unit\"]\n",
    "                    elif measurement[\"type\"] == \"length\":\n",
    "                        subpackage_details[\"measurements\"][\"dimensions\"][\"length\"] = float(measurement[\"value\"])\n",
    "                        subpackage_details[\"measurements\"][\"dimensions\"][\"unit\"] = measurement[\"text\"].split(\" \")[-1]\\\n",
    "                            if subpackage_details[\"measurements\"][\"dimensions\"][\"unit\"] is None\\\n",
    "                                else subpackage_details[\"measurements\"][\"dimensions\"][\"unit\"]\n",
    "                    elif measurement[\"type\"] == \"weight\":\n",
    "                        subpackage_details[\"measurements\"][\"weight\"][\"value\"] = float(measurement[\"value\"])\n",
    "                        subpackage_details[\"measurements\"][\"weight\"][\"unit\"] = measurement[\"text\"].split(\" \")[-1]\n",
    "                # We set volume value as the product of the dimensions\n",
    "                subpackage_details[\"measurements\"][\"volume\"][\"value\"] = subpackage_details[\"measurements\"][\"dimensions\"][\"width\"] *\\\n",
    "                                                                    subpackage_details[\"measurements\"][\"dimensions\"][\"height\"] *\\\n",
    "                                                                    subpackage_details[\"measurements\"][\"dimensions\"][\"length\"]\n",
    "                subpackage_details[\"measurements\"][\"volume\"][\"unit\"] = f'{subpackage_details[\"measurements\"][\"dimensions\"][\"unit\"]}3'\n",
    "\n",
    "                # We will add all the packages, which we consider to be a single bulk as one package within the product\n",
    "                # If there is more than one bulk within a package we make it separate packages\n",
    "                subitem_number += 1\n",
    "                # Now, we add the subpackage_details to the main_product packages list\n",
    "                main_product[\"packages\"].append(subpackage_details)\n",
    "\n",
    "    else:\n",
    "        package = entry[\"packages\"][0]\n",
    "        package_details = {\n",
    "                \"name\": package[\"name\"],\n",
    "                \"typeName\": package[\"typeName\"],\n",
    "                \"itemNo\": package[\"itemNo\"],\n",
    "                #\"subitemNo\": subitem_number,\n",
    "                \"articleNumber\": package.get(\"articleNumber\", {}).get(\"value\", None),\n",
    "                \"measurements\": {\n",
    "                    \"dimensions\": {\n",
    "                    },\n",
    "                    \"weight\": {\n",
    "                    },\n",
    "                    \"volume\": {\n",
    "                    }\n",
    "                },\n",
    "                \"quantity\": 1\n",
    "            }\n",
    "        subitem_number = 1\n",
    "        if package.get(\"measurements\", None) is None:\n",
    "            continue\n",
    "        for subpackage in package[\"measurements\"]:\n",
    "            subpackage_details = copy.deepcopy(package_details)\n",
    "            subpackage_details[\"subitemNo\"] = subitem_number\n",
    "            for measurement in subpackage:\n",
    "                if measurement[\"type\"] == \"width\":\n",
    "                    subpackage_details[\"measurements\"][\"dimensions\"][\"width\"] = float(measurement[\"value\"])\n",
    "                    subpackage_details[\"measurements\"][\"dimensions\"][\"unit\"] = measurement[\"text\"].split(\" \")[-1]\n",
    "                elif measurement[\"type\"] == \"height\":\n",
    "                    subpackage_details[\"measurements\"][\"dimensions\"][\"height\"] = float(measurement[\"value\"])\n",
    "                    subpackage_details[\"measurements\"][\"dimensions\"][\"unit\"] = measurement[\"text\"].split(\" \")[-1]\\\n",
    "                          if subpackage_details[\"measurements\"][\"dimensions\"][\"unit\"] is None\\\n",
    "                              else subpackage_details[\"measurements\"][\"dimensions\"][\"unit\"]\n",
    "                elif measurement[\"type\"] == \"length\":\n",
    "                    subpackage_details[\"measurements\"][\"dimensions\"][\"length\"] = float(measurement[\"value\"])\n",
    "                    subpackage_details[\"measurements\"][\"dimensions\"][\"unit\"] = measurement[\"text\"].split(\" \")[-1]\\\n",
    "                          if subpackage_details[\"measurements\"][\"dimensions\"][\"unit\"] is None\\\n",
    "                              else subpackage_details[\"measurements\"][\"dimensions\"][\"unit\"]\n",
    "                elif measurement[\"type\"] == \"weight\":\n",
    "                    subpackage_details[\"measurements\"][\"weight\"][\"value\"] = float(measurement[\"value\"])\n",
    "                    subpackage_details[\"measurements\"][\"weight\"][\"unit\"] = measurement[\"text\"].split(\" \")[-1]\n",
    "            # We set volume value as the product of the dimensions\n",
    "            subpackage_details[\"measurements\"][\"volume\"][\"value\"] = subpackage_details[\"measurements\"][\"dimensions\"][\"width\"] *\\\n",
    "                                                                subpackage_details[\"measurements\"][\"dimensions\"][\"height\"] *\\\n",
    "                                                                subpackage_details[\"measurements\"][\"dimensions\"][\"length\"]\n",
    "            subpackage_details[\"measurements\"][\"volume\"][\"unit\"] = f'{subpackage_details[\"measurements\"][\"dimensions\"][\"unit\"]}3'\n",
    "\n",
    "            # We will add all the packages, which we consider to be a single bulk as one package within the product\n",
    "            # If there is more than one bulk within a package we make it separate packages\n",
    "            subitem_number += 1\n",
    "            # Now, we add the subpackage_details to the main_product packages list\n",
    "            main_product[\"packages\"].append(subpackage_details)\n",
    "        \n",
    "    products_list.append(main_product)"
   ]
  },
  {
   "cell_type": "code",
   "execution_count": 29,
   "metadata": {},
   "outputs": [],
   "source": [
    "# Save the products list to a json file\n",
    "file_path = os.path.join(os.getcwd(), \"output\", \"full_product_extraction_updated_schema.json\")\n",
    "with open(file_path, 'w', encoding=\"utf-8\") as f:\n",
    "    json.dump(products_list, f, indent=4)"
   ]
  },
  {
   "cell_type": "code",
   "execution_count": null,
   "metadata": {},
   "outputs": [],
   "source": []
  }
 ],
 "metadata": {
  "kernelspec": {
   "display_name": "venv_tfm",
   "language": "python",
   "name": "python3"
  },
  "language_info": {
   "codemirror_mode": {
    "name": "ipython",
    "version": 3
   },
   "file_extension": ".py",
   "mimetype": "text/x-python",
   "name": "python",
   "nbconvert_exporter": "python",
   "pygments_lexer": "ipython3",
   "version": "3.9.9"
  }
 },
 "nbformat": 4,
 "nbformat_minor": 2
}
